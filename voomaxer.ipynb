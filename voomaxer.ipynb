{
 "metadata": {
  "name": "",
  "signature": "sha256:6510aa10dea0c8501e8620ac09d5b54264645e9cd7f1aa2ab3de61d4d4cc84e6"
 },
 "nbformat": 3,
 "nbformat_minor": 0,
 "worksheets": [
  {
   "cells": [
    {
     "cell_type": "code",
     "collapsed": false,
     "input": [
      "import pandas\n",
      "from datetime import datetime\n",
      "import matplotlib.pyplot as plt\n",
      "%matplotlib inline"
     ],
     "language": "python",
     "metadata": {},
     "outputs": [],
     "prompt_number": 1
    },
    {
     "cell_type": "code",
     "collapsed": false,
     "input": [
      "df = pandas.DataFrame.from_csv('voomaxer_logs_for_user799_on_2015-01-03.csv')\n",
      "start = df.index.searchsorted(datetime(2008, 1, 1))\n",
      "end = df.index.searchsorted(datetime(2015, 1, 1))\n",
      "df = df[start:end]\n",
      "df = df[(df.activity == 'swimming') | (df.activity == 'cycling') | (df.activity == 'running')]\n",
      "df.head()"
     ],
     "language": "python",
     "metadata": {},
     "outputs": [
      {
       "html": [
        "<div style=\"max-height:1000px;max-width:1500px;overflow:auto;\">\n",
        "<table border=\"1\" class=\"dataframe\">\n",
        "  <thead>\n",
        "    <tr style=\"text-align: right;\">\n",
        "      <th></th>\n",
        "      <th>activity</th>\n",
        "      <th>distance in meters</th>\n",
        "      <th>duration in seconds</th>\n",
        "      <th>notes</th>\n",
        "      <th>event name</th>\n",
        "      <th>created at</th>\n",
        "      <th>updated at</th>\n",
        "    </tr>\n",
        "    <tr>\n",
        "      <th>date</th>\n",
        "      <th></th>\n",
        "      <th></th>\n",
        "      <th></th>\n",
        "      <th></th>\n",
        "      <th></th>\n",
        "      <th></th>\n",
        "      <th></th>\n",
        "    </tr>\n",
        "  </thead>\n",
        "  <tbody>\n",
        "    <tr>\n",
        "      <th>2008-01-01 12:00:00</th>\n",
        "      <td>  running</td>\n",
        "      <td>   9977.9328</td>\n",
        "      <td>  2380</td>\n",
        "      <td> New years day 10k. Perfect running conditions,...</td>\n",
        "      <td>                NaN</td>\n",
        "      <td> 2008-01-01 00:00:00 +0000</td>\n",
        "      <td> 2008-09-24 11:25:42 +0100</td>\n",
        "    </tr>\n",
        "    <tr>\n",
        "      <th>2008-01-01 12:00:00</th>\n",
        "      <td>  running</td>\n",
        "      <td>  10000.0000</td>\n",
        "      <td>  2380</td>\n",
        "      <td>                                New Year's Day 10k</td>\n",
        "      <td> 10,000 meter (10K)</td>\n",
        "      <td> 2008-03-26 20:07:56 +0000</td>\n",
        "      <td> 2008-09-24 11:25:42 +0100</td>\n",
        "    </tr>\n",
        "    <tr>\n",
        "      <th>2008-01-03 12:00:00</th>\n",
        "      <td> swimming</td>\n",
        "      <td>   1200.0000</td>\n",
        "      <td>  1500</td>\n",
        "      <td>                                        Short swim</td>\n",
        "      <td>                NaN</td>\n",
        "      <td> 2008-03-27 22:34:43 +0000</td>\n",
        "      <td> 2008-09-24 11:25:42 +0100</td>\n",
        "    </tr>\n",
        "    <tr>\n",
        "      <th>2008-01-04 12:00:00</th>\n",
        "      <td>  running</td>\n",
        "      <td>   4828.0320</td>\n",
        "      <td>  1440</td>\n",
        "      <td>             Short run after 75m bike ride in macc</td>\n",
        "      <td>                NaN</td>\n",
        "      <td> 2008-01-05 00:00:00 +0000</td>\n",
        "      <td> 2008-09-24 11:25:42 +0100</td>\n",
        "    </tr>\n",
        "    <tr>\n",
        "      <th>2008-01-04 12:00:00</th>\n",
        "      <td>  cycling</td>\n",
        "      <td> 120700.8000</td>\n",
        "      <td> 18000</td>\n",
        "      <td> Ride around Macclesfield (Macc-Cat &amp; fiddle-bu...</td>\n",
        "      <td>                NaN</td>\n",
        "      <td> 2008-03-27 22:35:57 +0000</td>\n",
        "      <td> 2008-09-24 11:25:42 +0100</td>\n",
        "    </tr>\n",
        "  </tbody>\n",
        "</table>\n",
        "</div>"
       ],
       "metadata": {},
       "output_type": "pyout",
       "prompt_number": 2,
       "text": [
        "                     activity  distance in meters  duration in seconds  \\\n",
        "date                                                                     \n",
        "2008-01-01 12:00:00   running           9977.9328                 2380   \n",
        "2008-01-01 12:00:00   running          10000.0000                 2380   \n",
        "2008-01-03 12:00:00  swimming           1200.0000                 1500   \n",
        "2008-01-04 12:00:00   running           4828.0320                 1440   \n",
        "2008-01-04 12:00:00   cycling         120700.8000                18000   \n",
        "\n",
        "                                                                 notes  \\\n",
        "date                                                                     \n",
        "2008-01-01 12:00:00  New years day 10k. Perfect running conditions,...   \n",
        "2008-01-01 12:00:00                                 New Year's Day 10k   \n",
        "2008-01-03 12:00:00                                         Short swim   \n",
        "2008-01-04 12:00:00              Short run after 75m bike ride in macc   \n",
        "2008-01-04 12:00:00  Ride around Macclesfield (Macc-Cat & fiddle-bu...   \n",
        "\n",
        "                             event name                 created at  \\\n",
        "date                                                                 \n",
        "2008-01-01 12:00:00                 NaN  2008-01-01 00:00:00 +0000   \n",
        "2008-01-01 12:00:00  10,000 meter (10K)  2008-03-26 20:07:56 +0000   \n",
        "2008-01-03 12:00:00                 NaN  2008-03-27 22:34:43 +0000   \n",
        "2008-01-04 12:00:00                 NaN  2008-01-05 00:00:00 +0000   \n",
        "2008-01-04 12:00:00                 NaN  2008-03-27 22:35:57 +0000   \n",
        "\n",
        "                                    updated at  \n",
        "date                                            \n",
        "2008-01-01 12:00:00  2008-09-24 11:25:42 +0100  \n",
        "2008-01-01 12:00:00  2008-09-24 11:25:42 +0100  \n",
        "2008-01-03 12:00:00  2008-09-24 11:25:42 +0100  \n",
        "2008-01-04 12:00:00  2008-09-24 11:25:42 +0100  \n",
        "2008-01-04 12:00:00  2008-09-24 11:25:42 +0100  "
       ]
      }
     ],
     "prompt_number": 2
    },
    {
     "cell_type": "code",
     "collapsed": false,
     "input": [
      "key = lambda x: x.year\n",
      "act = lambda x: x.activity\n",
      "#filt = lambda x: x.index > 2007 and x.index < 2015\n",
      "func = lambda x: x.sum() / 1000\n",
      "grouped = df.groupby((key, 'activity'))\n",
      "agg = grouped['distance in meters'].aggregate(func)\n",
      "agg.index.names = ['year', 'activity']\n",
      "agg"
     ],
     "language": "python",
     "metadata": {},
     "outputs": [
      {
       "metadata": {},
       "output_type": "pyout",
       "prompt_number": 3,
       "text": [
        "year  activity\n",
        "2008  cycling      7911.143338\n",
        "      running      1401.251831\n",
        "      swimming      179.415507\n",
        "2009  cycling      8570.671679\n",
        "      running      1325.080813\n",
        "      swimming      198.885786\n",
        "2010  cycling     10928.988478\n",
        "      running      1540.407439\n",
        "      swimming      279.721670\n",
        "2011  cycling      8427.658511\n",
        "      running      1860.040048\n",
        "      swimming      187.732008\n",
        "2012  cycling      4084.345216\n",
        "      running       583.600819\n",
        "      swimming       81.640000\n",
        "2013  cycling      6965.568400\n",
        "      running      1221.309424\n",
        "      swimming      157.830000\n",
        "2014  cycling      5317.035686\n",
        "      running       961.177376\n",
        "      swimming      121.926000\n",
        "Name: distance in meters, dtype: float64"
       ]
      }
     ],
     "prompt_number": 3
    },
    {
     "cell_type": "code",
     "collapsed": false,
     "input": [
      "aggu = agg.unstack()\n",
      "agguf = aggu.reset_index(False)\n",
      "ax = agg.unstack().plot(kind='bar', stacked=False)\n",
      "plt.ylabel('distance (km)')\n",
      "emily = agguf[agguf.year == 2012].cycling\n",
      "clara = agguf[agguf.year == 2014].cycling\n",
      "ax.annotate('Emily', xy=(4, emily), xytext=(4, emily + 1500), arrowprops=dict(facecolor='black', shrink=0.05))\n",
      "ax.annotate('Clara', xy=(6, clara), xytext=(6, clara + 1500), arrowprops=dict(facecolor='black', shrink=0.05))"
     ],
     "language": "python",
     "metadata": {},
     "outputs": [
      {
       "metadata": {},
       "output_type": "pyout",
       "prompt_number": 4,
       "text": [
        "<matplotlib.text.Annotation at 0x10788c1d0>"
       ]
      },
      {
       "metadata": {},
       "output_type": "display_data",
       "png": "[encoded data removed]",
       "text": [
        "<matplotlib.figure.Figure at 0x1072f2ac8>"
       ]
      }
     ],
     "prompt_number": 4
    },
    {
     "cell_type": "code",
     "collapsed": false,
     "input": [],
     "language": "python",
     "metadata": {},
     "outputs": []
    }
   ],
   "metadata": {}
  }
 ]
}